{
  "nbformat": 4,
  "nbformat_minor": 0,
  "metadata": {
    "kernelspec": {
      "display_name": "Python 3",
      "language": "python",
      "name": "python3"
    },
    "language_info": {
      "codemirror_mode": {
        "name": "ipython",
        "version": 3
      },
      "file_extension": ".py",
      "mimetype": "text/x-python",
      "name": "python",
      "nbconvert_exporter": "python",
      "pygments_lexer": "ipython3",
      "version": "3.6.1"
    },
    "colab": {
      "name": "Day_024_HW.ipynb",
      "provenance": [],
      "collapsed_sections": []
    }
  },
  "cells": [
    {
      "cell_type": "markdown",
      "metadata": {
        "collapsed": true,
        "id": "lJhI6qow9mv_",
        "colab_type": "text"
      },
      "source": [
        "# 作業 : (Kaggle)鐵達尼生存預測\n",
        "https://www.kaggle.com/c/titanic"
      ]
    },
    {
      "cell_type": "markdown",
      "metadata": {
        "id": "-bnunPZd9mwA",
        "colab_type": "text"
      },
      "source": [
        "# [作業目標]\n",
        "- 試著模仿範例寫法, 在鐵達尼生存預測中, 觀察計數編碼與特徵雜湊的效果"
      ]
    },
    {
      "cell_type": "markdown",
      "metadata": {
        "id": "BJ-zIJ6R9mwB",
        "colab_type": "text"
      },
      "source": [
        "# [作業重點]\n",
        "- 仿造範例, 完成計數編碼以及搭配邏輯斯迴歸的預測 (In[4], Out[4], In[5], Out[5]) \n",
        "- 仿造範例, 完成雜湊編碼, 以及計數編碼+雜湊編碼 搭配邏輯斯迴歸的預測 (In[6], Out[6], In[7], Out[7]) \n",
        "- 試著回答上述執行結果的觀察"
      ]
    },
    {
      "cell_type": "markdown",
      "metadata": {
        "collapsed": true,
        "id": "JaCS9MWo9mwB",
        "colab_type": "text"
      },
      "source": [
        "# 作業1\n",
        "* 參考範例，將鐵達尼的艙位代碼( 'Cabin' )欄位使用特徵雜湊 / 標籤編碼 / 目標均值編碼三種轉換後，  \n",
        "與其他類別型欄位一起預估生存機率"
      ]
    },
    {
      "cell_type": "code",
      "metadata": {
        "id": "v7j7rIM-9mwC",
        "colab_type": "code",
        "outputId": "f2d268c3-9ec3-4b56-d61d-0f56840f60e3",
        "colab": {
          "base_uri": "https://localhost:8080/",
          "height": 204
        }
      },
      "source": [
        "# 做完特徵工程前的所有準備 (與前範例相同)\n",
        "import pandas as pd\n",
        "import numpy as np\n",
        "import copy, time\n",
        "from sklearn.preprocessing import LabelEncoder\n",
        "from sklearn.model_selection import cross_val_score\n",
        "from sklearn.linear_model import LogisticRegression\n",
        "from sklearn.preprocessing import MinMaxScaler\n",
        "\n",
        "# 讀取訓練與測試資料\n",
        "# !wget http://ai100.cupoy.com/file-download/part02/titanic_test.csv\n",
        "# !wget http://ai100.cupoy.com/file-download/part02/titanic_train.csv\n",
        "\n",
        "data_path = './'\n",
        "df_train = pd.read_csv(data_path + 'titanic_train.csv')\n",
        "df_test = pd.read_csv(data_path + 'titanic_test.csv')\n",
        "\n",
        "train_Y = df_train['Survived']\n",
        "ids = df_test['PassengerId']\n",
        "df_train = df_train.drop(['PassengerId', 'Survived'] , axis=1)\n",
        "df_test = df_test.drop(['PassengerId'] , axis=1)\n",
        "df = pd.concat([df_train,df_test])\n",
        "df.head()"
      ],
      "execution_count": 1,
      "outputs": [
        {
          "output_type": "execute_result",
          "data": {
            "text/html": [
              "<div>\n",
              "<style scoped>\n",
              "    .dataframe tbody tr th:only-of-type {\n",
              "        vertical-align: middle;\n",
              "    }\n",
              "\n",
              "    .dataframe tbody tr th {\n",
              "        vertical-align: top;\n",
              "    }\n",
              "\n",
              "    .dataframe thead th {\n",
              "        text-align: right;\n",
              "    }\n",
              "</style>\n",
              "<table border=\"1\" class=\"dataframe\">\n",
              "  <thead>\n",
              "    <tr style=\"text-align: right;\">\n",
              "      <th></th>\n",
              "      <th>Pclass</th>\n",
              "      <th>Name</th>\n",
              "      <th>Sex</th>\n",
              "      <th>Age</th>\n",
              "      <th>SibSp</th>\n",
              "      <th>Parch</th>\n",
              "      <th>Ticket</th>\n",
              "      <th>Fare</th>\n",
              "      <th>Cabin</th>\n",
              "      <th>Embarked</th>\n",
              "    </tr>\n",
              "  </thead>\n",
              "  <tbody>\n",
              "    <tr>\n",
              "      <th>0</th>\n",
              "      <td>3</td>\n",
              "      <td>Braund, Mr. Owen Harris</td>\n",
              "      <td>male</td>\n",
              "      <td>22.0</td>\n",
              "      <td>1</td>\n",
              "      <td>0</td>\n",
              "      <td>A/5 21171</td>\n",
              "      <td>7.2500</td>\n",
              "      <td>NaN</td>\n",
              "      <td>S</td>\n",
              "    </tr>\n",
              "    <tr>\n",
              "      <th>1</th>\n",
              "      <td>1</td>\n",
              "      <td>Cumings, Mrs. John Bradley (Florence Briggs Th...</td>\n",
              "      <td>female</td>\n",
              "      <td>38.0</td>\n",
              "      <td>1</td>\n",
              "      <td>0</td>\n",
              "      <td>PC 17599</td>\n",
              "      <td>71.2833</td>\n",
              "      <td>C85</td>\n",
              "      <td>C</td>\n",
              "    </tr>\n",
              "    <tr>\n",
              "      <th>2</th>\n",
              "      <td>3</td>\n",
              "      <td>Heikkinen, Miss. Laina</td>\n",
              "      <td>female</td>\n",
              "      <td>26.0</td>\n",
              "      <td>0</td>\n",
              "      <td>0</td>\n",
              "      <td>STON/O2. 3101282</td>\n",
              "      <td>7.9250</td>\n",
              "      <td>NaN</td>\n",
              "      <td>S</td>\n",
              "    </tr>\n",
              "    <tr>\n",
              "      <th>3</th>\n",
              "      <td>1</td>\n",
              "      <td>Futrelle, Mrs. Jacques Heath (Lily May Peel)</td>\n",
              "      <td>female</td>\n",
              "      <td>35.0</td>\n",
              "      <td>1</td>\n",
              "      <td>0</td>\n",
              "      <td>113803</td>\n",
              "      <td>53.1000</td>\n",
              "      <td>C123</td>\n",
              "      <td>S</td>\n",
              "    </tr>\n",
              "    <tr>\n",
              "      <th>4</th>\n",
              "      <td>3</td>\n",
              "      <td>Allen, Mr. William Henry</td>\n",
              "      <td>male</td>\n",
              "      <td>35.0</td>\n",
              "      <td>0</td>\n",
              "      <td>0</td>\n",
              "      <td>373450</td>\n",
              "      <td>8.0500</td>\n",
              "      <td>NaN</td>\n",
              "      <td>S</td>\n",
              "    </tr>\n",
              "  </tbody>\n",
              "</table>\n",
              "</div>"
            ],
            "text/plain": [
              "   Pclass                                               Name  ... Cabin  Embarked\n",
              "0       3                            Braund, Mr. Owen Harris  ...   NaN         S\n",
              "1       1  Cumings, Mrs. John Bradley (Florence Briggs Th...  ...   C85         C\n",
              "2       3                             Heikkinen, Miss. Laina  ...   NaN         S\n",
              "3       1       Futrelle, Mrs. Jacques Heath (Lily May Peel)  ...  C123         S\n",
              "4       3                           Allen, Mr. William Henry  ...   NaN         S\n",
              "\n",
              "[5 rows x 10 columns]"
            ]
          },
          "metadata": {
            "tags": []
          },
          "execution_count": 1
        }
      ]
    },
    {
      "cell_type": "code",
      "metadata": {
        "id": "ONPPVmwO9mwE",
        "colab_type": "code",
        "outputId": "57f005d7-06f9-4170-b0af-cdcea5863675",
        "colab": {
          "base_uri": "https://localhost:8080/",
          "height": 238
        }
      },
      "source": [
        "#只取類別值 (object) 型欄位, 存於 object_features 中\n",
        "object_features = []\n",
        "for dtype, feature in zip(df.dtypes, df.columns):\n",
        "    if dtype == 'object':\n",
        "        object_features.append(feature)\n",
        "print(f'{len(object_features)} Object Features : {object_features}\\n')\n",
        "\n",
        "# 只留類別型欄位\n",
        "df = df[object_features]\n",
        "df = df.fillna('None')\n",
        "train_num = train_Y.shape[0]\n",
        "df.head()"
      ],
      "execution_count": 2,
      "outputs": [
        {
          "output_type": "stream",
          "text": [
            "5 Object Features : ['Name', 'Sex', 'Ticket', 'Cabin', 'Embarked']\n",
            "\n"
          ],
          "name": "stdout"
        },
        {
          "output_type": "execute_result",
          "data": {
            "text/html": [
              "<div>\n",
              "<style scoped>\n",
              "    .dataframe tbody tr th:only-of-type {\n",
              "        vertical-align: middle;\n",
              "    }\n",
              "\n",
              "    .dataframe tbody tr th {\n",
              "        vertical-align: top;\n",
              "    }\n",
              "\n",
              "    .dataframe thead th {\n",
              "        text-align: right;\n",
              "    }\n",
              "</style>\n",
              "<table border=\"1\" class=\"dataframe\">\n",
              "  <thead>\n",
              "    <tr style=\"text-align: right;\">\n",
              "      <th></th>\n",
              "      <th>Name</th>\n",
              "      <th>Sex</th>\n",
              "      <th>Ticket</th>\n",
              "      <th>Cabin</th>\n",
              "      <th>Embarked</th>\n",
              "    </tr>\n",
              "  </thead>\n",
              "  <tbody>\n",
              "    <tr>\n",
              "      <th>0</th>\n",
              "      <td>Braund, Mr. Owen Harris</td>\n",
              "      <td>male</td>\n",
              "      <td>A/5 21171</td>\n",
              "      <td>None</td>\n",
              "      <td>S</td>\n",
              "    </tr>\n",
              "    <tr>\n",
              "      <th>1</th>\n",
              "      <td>Cumings, Mrs. John Bradley (Florence Briggs Th...</td>\n",
              "      <td>female</td>\n",
              "      <td>PC 17599</td>\n",
              "      <td>C85</td>\n",
              "      <td>C</td>\n",
              "    </tr>\n",
              "    <tr>\n",
              "      <th>2</th>\n",
              "      <td>Heikkinen, Miss. Laina</td>\n",
              "      <td>female</td>\n",
              "      <td>STON/O2. 3101282</td>\n",
              "      <td>None</td>\n",
              "      <td>S</td>\n",
              "    </tr>\n",
              "    <tr>\n",
              "      <th>3</th>\n",
              "      <td>Futrelle, Mrs. Jacques Heath (Lily May Peel)</td>\n",
              "      <td>female</td>\n",
              "      <td>113803</td>\n",
              "      <td>C123</td>\n",
              "      <td>S</td>\n",
              "    </tr>\n",
              "    <tr>\n",
              "      <th>4</th>\n",
              "      <td>Allen, Mr. William Henry</td>\n",
              "      <td>male</td>\n",
              "      <td>373450</td>\n",
              "      <td>None</td>\n",
              "      <td>S</td>\n",
              "    </tr>\n",
              "  </tbody>\n",
              "</table>\n",
              "</div>"
            ],
            "text/plain": [
              "                                                Name     Sex  ... Cabin Embarked\n",
              "0                            Braund, Mr. Owen Harris    male  ...  None        S\n",
              "1  Cumings, Mrs. John Bradley (Florence Briggs Th...  female  ...   C85        C\n",
              "2                             Heikkinen, Miss. Laina  female  ...  None        S\n",
              "3       Futrelle, Mrs. Jacques Heath (Lily May Peel)  female  ...  C123        S\n",
              "4                           Allen, Mr. William Henry    male  ...  None        S\n",
              "\n",
              "[5 rows x 5 columns]"
            ]
          },
          "metadata": {
            "tags": []
          },
          "execution_count": 2
        }
      ]
    },
    {
      "cell_type": "code",
      "metadata": {
        "id": "oISjFnqh9mwH",
        "colab_type": "code",
        "colab": {
          "base_uri": "https://localhost:8080/",
          "height": 238
        },
        "outputId": "8d6561e6-d164-4a15-8d46-2edb9995fa9d"
      },
      "source": [
        "# 對照組 : 標籤編碼 + 邏輯斯迴歸\n",
        "# penalties = ['l1', 'l2', 'elasticnet', 'none']\n",
        "# Logistic Regression supports only solvers in ['liblinear', 'newton-cg', 'lbfgs', 'sag', 'saga'], got elasticnet.\n",
        "\n",
        "start_cp = time.time()\n",
        "df_temp = pd.DataFrame()\n",
        "\n",
        "for c in df.columns:\n",
        "    df_temp[c] = LabelEncoder().fit_transform(df[c])\n",
        "\n",
        "estimator = LogisticRegression(solver='newton-cg')\n",
        "train_X = df_temp[:train_num]\n",
        "\n",
        "score_cp = cross_val_score(estimator, train_X, train_Y, cv=5).mean()\n",
        "time_cp = time.time() - start_cp\n",
        "\n",
        "print(f'score_cp : {score_cp}')\n",
        "print(f'time_cp: {time_cp} sec')\n",
        "\n",
        "df_temp.head()"
      ],
      "execution_count": 3,
      "outputs": [
        {
          "output_type": "stream",
          "text": [
            "score_cp : 0.7789000729487724\n",
            "time_cp: 0.29859352111816406 sec\n"
          ],
          "name": "stdout"
        },
        {
          "output_type": "execute_result",
          "data": {
            "text/html": [
              "<div>\n",
              "<style scoped>\n",
              "    .dataframe tbody tr th:only-of-type {\n",
              "        vertical-align: middle;\n",
              "    }\n",
              "\n",
              "    .dataframe tbody tr th {\n",
              "        vertical-align: top;\n",
              "    }\n",
              "\n",
              "    .dataframe thead th {\n",
              "        text-align: right;\n",
              "    }\n",
              "</style>\n",
              "<table border=\"1\" class=\"dataframe\">\n",
              "  <thead>\n",
              "    <tr style=\"text-align: right;\">\n",
              "      <th></th>\n",
              "      <th>Name</th>\n",
              "      <th>Sex</th>\n",
              "      <th>Ticket</th>\n",
              "      <th>Cabin</th>\n",
              "      <th>Embarked</th>\n",
              "    </tr>\n",
              "  </thead>\n",
              "  <tbody>\n",
              "    <tr>\n",
              "      <th>0</th>\n",
              "      <td>155</td>\n",
              "      <td>1</td>\n",
              "      <td>720</td>\n",
              "      <td>185</td>\n",
              "      <td>3</td>\n",
              "    </tr>\n",
              "    <tr>\n",
              "      <th>1</th>\n",
              "      <td>286</td>\n",
              "      <td>0</td>\n",
              "      <td>816</td>\n",
              "      <td>106</td>\n",
              "      <td>0</td>\n",
              "    </tr>\n",
              "    <tr>\n",
              "      <th>2</th>\n",
              "      <td>523</td>\n",
              "      <td>0</td>\n",
              "      <td>914</td>\n",
              "      <td>185</td>\n",
              "      <td>3</td>\n",
              "    </tr>\n",
              "    <tr>\n",
              "      <th>3</th>\n",
              "      <td>422</td>\n",
              "      <td>0</td>\n",
              "      <td>65</td>\n",
              "      <td>70</td>\n",
              "      <td>3</td>\n",
              "    </tr>\n",
              "    <tr>\n",
              "      <th>4</th>\n",
              "      <td>22</td>\n",
              "      <td>1</td>\n",
              "      <td>649</td>\n",
              "      <td>185</td>\n",
              "      <td>3</td>\n",
              "    </tr>\n",
              "  </tbody>\n",
              "</table>\n",
              "</div>"
            ],
            "text/plain": [
              "   Name  Sex  Ticket  Cabin  Embarked\n",
              "0   155    1     720    185         3\n",
              "1   286    0     816    106         0\n",
              "2   523    0     914    185         3\n",
              "3   422    0      65     70         3\n",
              "4    22    1     649    185         3"
            ]
          },
          "metadata": {
            "tags": []
          },
          "execution_count": 3
        }
      ]
    },
    {
      "cell_type": "code",
      "metadata": {
        "id": "4GNKta0e9mwK",
        "colab_type": "code",
        "colab": {
          "base_uri": "https://localhost:8080/",
          "height": 340
        },
        "outputId": "abb8a073-e542-4e39-e31a-d8bd38fae010"
      },
      "source": [
        "# 加上 'Cabin' 欄位的計數編碼\n",
        "count_df = df.groupby(['Cabin'])['Ticket'].agg({'Cabin_Count':'size'}).reset_index()\n",
        "df_Cabin = pd.merge(df, count_df, on=['Cabin'], how='left')\n",
        "# count_df.sort_values(by=['Cabin_Count'], ascending=False).head(10)\n",
        "\n",
        "\n",
        "# 'Cabin'計數編碼 + 邏輯斯迴歸\n",
        "start1 = time.time()\n",
        "df_temp1 = pd.DataFrame()\n",
        "\n",
        "for c in df.columns:\n",
        "    df_temp1[c] = LabelEncoder().fit_transform(df[c])\n",
        "\n",
        "estimator = LogisticRegression(solver='newton-cg')\n",
        "\n",
        "df_temp1['Cabin_Count'] = count_df['Cabin_Count']\n",
        "df_temp1 = df_temp1.fillna(0)\n",
        "train_X = df_temp1[:train_num]\n",
        "\n",
        "score1 = cross_val_score(estimator, train_X, train_Y, cv=5).mean()\n",
        "time1 = time.time() - start1\n",
        "print(f'score1 : {score1}')\n",
        "print(f'time1 : {time1} sec')\n",
        "df_temp1.head()"
      ],
      "execution_count": 4,
      "outputs": [
        {
          "output_type": "stream",
          "text": [
            "/usr/local/lib/python3.6/dist-packages/ipykernel_launcher.py:1: FutureWarning: using a dict on a Series for aggregation\n",
            "is deprecated and will be removed in a future version. Use                 named aggregation instead.\n",
            "\n",
            "    >>> grouper.agg(name_1=func_1, name_2=func_2)\n",
            "\n",
            "  \"\"\"Entry point for launching an IPython kernel.\n"
          ],
          "name": "stderr"
        },
        {
          "output_type": "stream",
          "text": [
            "score1 : 0.7621781006863284\n",
            "time1 : 0.34235477447509766 sec\n"
          ],
          "name": "stdout"
        },
        {
          "output_type": "execute_result",
          "data": {
            "text/html": [
              "<div>\n",
              "<style scoped>\n",
              "    .dataframe tbody tr th:only-of-type {\n",
              "        vertical-align: middle;\n",
              "    }\n",
              "\n",
              "    .dataframe tbody tr th {\n",
              "        vertical-align: top;\n",
              "    }\n",
              "\n",
              "    .dataframe thead th {\n",
              "        text-align: right;\n",
              "    }\n",
              "</style>\n",
              "<table border=\"1\" class=\"dataframe\">\n",
              "  <thead>\n",
              "    <tr style=\"text-align: right;\">\n",
              "      <th></th>\n",
              "      <th>Name</th>\n",
              "      <th>Sex</th>\n",
              "      <th>Ticket</th>\n",
              "      <th>Cabin</th>\n",
              "      <th>Embarked</th>\n",
              "      <th>Cabin_Count</th>\n",
              "    </tr>\n",
              "  </thead>\n",
              "  <tbody>\n",
              "    <tr>\n",
              "      <th>0</th>\n",
              "      <td>155</td>\n",
              "      <td>1</td>\n",
              "      <td>720</td>\n",
              "      <td>185</td>\n",
              "      <td>3</td>\n",
              "      <td>1.0</td>\n",
              "    </tr>\n",
              "    <tr>\n",
              "      <th>1</th>\n",
              "      <td>286</td>\n",
              "      <td>0</td>\n",
              "      <td>816</td>\n",
              "      <td>106</td>\n",
              "      <td>0</td>\n",
              "      <td>1.0</td>\n",
              "    </tr>\n",
              "    <tr>\n",
              "      <th>2</th>\n",
              "      <td>523</td>\n",
              "      <td>0</td>\n",
              "      <td>914</td>\n",
              "      <td>185</td>\n",
              "      <td>3</td>\n",
              "      <td>1.0</td>\n",
              "    </tr>\n",
              "    <tr>\n",
              "      <th>3</th>\n",
              "      <td>422</td>\n",
              "      <td>0</td>\n",
              "      <td>65</td>\n",
              "      <td>70</td>\n",
              "      <td>3</td>\n",
              "      <td>1.0</td>\n",
              "    </tr>\n",
              "    <tr>\n",
              "      <th>4</th>\n",
              "      <td>22</td>\n",
              "      <td>1</td>\n",
              "      <td>649</td>\n",
              "      <td>185</td>\n",
              "      <td>3</td>\n",
              "      <td>1.0</td>\n",
              "    </tr>\n",
              "  </tbody>\n",
              "</table>\n",
              "</div>"
            ],
            "text/plain": [
              "   Name  Sex  Ticket  Cabin  Embarked  Cabin_Count\n",
              "0   155    1     720    185         3          1.0\n",
              "1   286    0     816    106         0          1.0\n",
              "2   523    0     914    185         3          1.0\n",
              "3   422    0      65     70         3          1.0\n",
              "4    22    1     649    185         3          1.0"
            ]
          },
          "metadata": {
            "tags": []
          },
          "execution_count": 4
        }
      ]
    },
    {
      "cell_type": "code",
      "metadata": {
        "id": "1WJ2B-kn9mwM",
        "colab_type": "code",
        "colab": {
          "base_uri": "https://localhost:8080/",
          "height": 238
        },
        "outputId": "e975103a-6d16-4bcf-d418-b20539b32fff"
      },
      "source": [
        "# 'Cabin'特徵雜湊 + 邏輯斯迴歸\n",
        "start2 = time.time()\n",
        "df_temp2 = pd.DataFrame()\n",
        "\n",
        "df_temp2['Cabint_Hash'] = df['Cabin'].map(lambda x:hash(x) % 10)\n",
        "\n",
        "for c in df.columns:\n",
        "    df_temp2[c] = LabelEncoder().fit_transform(df[c])\n",
        "\n",
        "estimator = LogisticRegression(solver='newton-cg')\n",
        "train_X = df_temp2[:train_num]\n",
        "\n",
        "score2 = cross_val_score(estimator, train_X, train_Y, cv=5).mean()\n",
        "time2 = time.time() - start2\n",
        "print(f'score2 : {score2}')\n",
        "print(f'time2 : {time2} sec')\n",
        "\n",
        "df_temp2.head()"
      ],
      "execution_count": 5,
      "outputs": [
        {
          "output_type": "stream",
          "text": [
            "score2 : 0.7766528110101933\n",
            "time2 : 0.3129384517669678 sec\n"
          ],
          "name": "stdout"
        },
        {
          "output_type": "execute_result",
          "data": {
            "text/html": [
              "<div>\n",
              "<style scoped>\n",
              "    .dataframe tbody tr th:only-of-type {\n",
              "        vertical-align: middle;\n",
              "    }\n",
              "\n",
              "    .dataframe tbody tr th {\n",
              "        vertical-align: top;\n",
              "    }\n",
              "\n",
              "    .dataframe thead th {\n",
              "        text-align: right;\n",
              "    }\n",
              "</style>\n",
              "<table border=\"1\" class=\"dataframe\">\n",
              "  <thead>\n",
              "    <tr style=\"text-align: right;\">\n",
              "      <th></th>\n",
              "      <th>Cabint_Hash</th>\n",
              "      <th>Name</th>\n",
              "      <th>Sex</th>\n",
              "      <th>Ticket</th>\n",
              "      <th>Cabin</th>\n",
              "      <th>Embarked</th>\n",
              "    </tr>\n",
              "  </thead>\n",
              "  <tbody>\n",
              "    <tr>\n",
              "      <th>0</th>\n",
              "      <td>5</td>\n",
              "      <td>155</td>\n",
              "      <td>1</td>\n",
              "      <td>720</td>\n",
              "      <td>185</td>\n",
              "      <td>3</td>\n",
              "    </tr>\n",
              "    <tr>\n",
              "      <th>1</th>\n",
              "      <td>2</td>\n",
              "      <td>286</td>\n",
              "      <td>0</td>\n",
              "      <td>816</td>\n",
              "      <td>106</td>\n",
              "      <td>0</td>\n",
              "    </tr>\n",
              "    <tr>\n",
              "      <th>2</th>\n",
              "      <td>5</td>\n",
              "      <td>523</td>\n",
              "      <td>0</td>\n",
              "      <td>914</td>\n",
              "      <td>185</td>\n",
              "      <td>3</td>\n",
              "    </tr>\n",
              "    <tr>\n",
              "      <th>3</th>\n",
              "      <td>7</td>\n",
              "      <td>422</td>\n",
              "      <td>0</td>\n",
              "      <td>65</td>\n",
              "      <td>70</td>\n",
              "      <td>3</td>\n",
              "    </tr>\n",
              "    <tr>\n",
              "      <th>4</th>\n",
              "      <td>5</td>\n",
              "      <td>22</td>\n",
              "      <td>1</td>\n",
              "      <td>649</td>\n",
              "      <td>185</td>\n",
              "      <td>3</td>\n",
              "    </tr>\n",
              "  </tbody>\n",
              "</table>\n",
              "</div>"
            ],
            "text/plain": [
              "   Cabint_Hash  Name  Sex  Ticket  Cabin  Embarked\n",
              "0            5   155    1     720    185         3\n",
              "1            2   286    0     816    106         0\n",
              "2            5   523    0     914    185         3\n",
              "3            7   422    0      65     70         3\n",
              "4            5    22    1     649    185         3"
            ]
          },
          "metadata": {
            "tags": []
          },
          "execution_count": 5
        }
      ]
    },
    {
      "cell_type": "code",
      "metadata": {
        "id": "EaNzk-1p9mwO",
        "colab_type": "code",
        "colab": {
          "base_uri": "https://localhost:8080/",
          "height": 238
        },
        "outputId": "9f6ad3d8-ac92-4b5c-c19f-352c9b37cc61"
      },
      "source": [
        "# 'Cabin'計數編碼 + 'Cabin'特徵雜湊 + 邏輯斯迴歸\n",
        "start3 = time.time()\n",
        "df_temp3 = pd.DataFrame()\n",
        "\n",
        "df_temp3['Cabint_Hash'] = df['Cabin'].map(lambda x:hash(x) % 10)\n",
        "\n",
        "for c in df.columns:\n",
        "    df_temp3[c] = LabelEncoder().fit_transform(df[c])\n",
        "\n",
        "estimator = LogisticRegression(solver='newton-cg')\n",
        "df_temp3['Cabin_Count'] = count_df['Cabin_Count']\n",
        "df_temp3 = df_temp3.fillna(0)\n",
        "train_X = df_temp3[:train_num]\n",
        "\n",
        "score3 = cross_val_score(estimator, train_X, train_Y, cv=5).mean()\n",
        "time3 = time.time() - start3\n",
        "print(f'score3 : {score3}')\n",
        "print(f'time3 : {time3} sec')\n",
        "df_temp3.head()"
      ],
      "execution_count": 6,
      "outputs": [
        {
          "output_type": "stream",
          "text": [
            "score3 : 0.7576835768091703\n",
            "time3 : 0.3427863121032715 sec\n"
          ],
          "name": "stdout"
        },
        {
          "output_type": "execute_result",
          "data": {
            "text/html": [
              "<div>\n",
              "<style scoped>\n",
              "    .dataframe tbody tr th:only-of-type {\n",
              "        vertical-align: middle;\n",
              "    }\n",
              "\n",
              "    .dataframe tbody tr th {\n",
              "        vertical-align: top;\n",
              "    }\n",
              "\n",
              "    .dataframe thead th {\n",
              "        text-align: right;\n",
              "    }\n",
              "</style>\n",
              "<table border=\"1\" class=\"dataframe\">\n",
              "  <thead>\n",
              "    <tr style=\"text-align: right;\">\n",
              "      <th></th>\n",
              "      <th>Cabint_Hash</th>\n",
              "      <th>Name</th>\n",
              "      <th>Sex</th>\n",
              "      <th>Ticket</th>\n",
              "      <th>Cabin</th>\n",
              "      <th>Embarked</th>\n",
              "      <th>Cabin_Count</th>\n",
              "    </tr>\n",
              "  </thead>\n",
              "  <tbody>\n",
              "    <tr>\n",
              "      <th>0</th>\n",
              "      <td>5</td>\n",
              "      <td>155</td>\n",
              "      <td>1</td>\n",
              "      <td>720</td>\n",
              "      <td>185</td>\n",
              "      <td>3</td>\n",
              "      <td>1.0</td>\n",
              "    </tr>\n",
              "    <tr>\n",
              "      <th>1</th>\n",
              "      <td>2</td>\n",
              "      <td>286</td>\n",
              "      <td>0</td>\n",
              "      <td>816</td>\n",
              "      <td>106</td>\n",
              "      <td>0</td>\n",
              "      <td>1.0</td>\n",
              "    </tr>\n",
              "    <tr>\n",
              "      <th>2</th>\n",
              "      <td>5</td>\n",
              "      <td>523</td>\n",
              "      <td>0</td>\n",
              "      <td>914</td>\n",
              "      <td>185</td>\n",
              "      <td>3</td>\n",
              "      <td>1.0</td>\n",
              "    </tr>\n",
              "    <tr>\n",
              "      <th>3</th>\n",
              "      <td>7</td>\n",
              "      <td>422</td>\n",
              "      <td>0</td>\n",
              "      <td>65</td>\n",
              "      <td>70</td>\n",
              "      <td>3</td>\n",
              "      <td>1.0</td>\n",
              "    </tr>\n",
              "    <tr>\n",
              "      <th>4</th>\n",
              "      <td>5</td>\n",
              "      <td>22</td>\n",
              "      <td>1</td>\n",
              "      <td>649</td>\n",
              "      <td>185</td>\n",
              "      <td>3</td>\n",
              "      <td>1.0</td>\n",
              "    </tr>\n",
              "  </tbody>\n",
              "</table>\n",
              "</div>"
            ],
            "text/plain": [
              "   Cabint_Hash  Name  Sex  Ticket  Cabin  Embarked  Cabin_Count\n",
              "0            5   155    1     720    185         3          1.0\n",
              "1            2   286    0     816    106         0          1.0\n",
              "2            5   523    0     914    185         3          1.0\n",
              "3            7   422    0      65     70         3          1.0\n",
              "4            5    22    1     649    185         3          1.0"
            ]
          },
          "metadata": {
            "tags": []
          },
          "execution_count": 6
        }
      ]
    },
    {
      "cell_type": "markdown",
      "metadata": {
        "collapsed": true,
        "id": "pX-RiFBI9mwG",
        "colab_type": "text"
      },
      "source": [
        "# 作業2\n",
        "* 承上題，三者比較效果何者最好?"
      ]
    },
    {
      "cell_type": "code",
      "metadata": {
        "id": "6Hp2_3jArfKO",
        "colab_type": "code",
        "colab": {
          "base_uri": "https://localhost:8080/",
          "height": 173
        },
        "outputId": "325a68ff-6bca-4f5e-cccb-8c5c7814c0bc"
      },
      "source": [
        "df_score = {\"score\":[score_cp,score1,score2,score3],\"time\":[time_cp,time1,time2,time3]}\n",
        "df_score = pd.DataFrame(df_score,index=[\"標籤編碼 + 邏輯斯迴歸\",\"'Cabin'計數編碼 + 邏輯斯迴歸\",\"'Cabin'特徵雜湊 + 邏輯斯迴歸\",\"'Cabin'計數編碼 + 'Cabin'特徵雜湊 + 邏輯斯迴歸\"])\n",
        "df_score"
      ],
      "execution_count": 7,
      "outputs": [
        {
          "output_type": "execute_result",
          "data": {
            "text/html": [
              "<div>\n",
              "<style scoped>\n",
              "    .dataframe tbody tr th:only-of-type {\n",
              "        vertical-align: middle;\n",
              "    }\n",
              "\n",
              "    .dataframe tbody tr th {\n",
              "        vertical-align: top;\n",
              "    }\n",
              "\n",
              "    .dataframe thead th {\n",
              "        text-align: right;\n",
              "    }\n",
              "</style>\n",
              "<table border=\"1\" class=\"dataframe\">\n",
              "  <thead>\n",
              "    <tr style=\"text-align: right;\">\n",
              "      <th></th>\n",
              "      <th>score</th>\n",
              "      <th>time</th>\n",
              "    </tr>\n",
              "  </thead>\n",
              "  <tbody>\n",
              "    <tr>\n",
              "      <th>標籤編碼 + 邏輯斯迴歸</th>\n",
              "      <td>0.778900</td>\n",
              "      <td>0.298594</td>\n",
              "    </tr>\n",
              "    <tr>\n",
              "      <th>'Cabin'計數編碼 + 邏輯斯迴歸</th>\n",
              "      <td>0.762178</td>\n",
              "      <td>0.342355</td>\n",
              "    </tr>\n",
              "    <tr>\n",
              "      <th>'Cabin'特徵雜湊 + 邏輯斯迴歸</th>\n",
              "      <td>0.776653</td>\n",
              "      <td>0.312938</td>\n",
              "    </tr>\n",
              "    <tr>\n",
              "      <th>'Cabin'計數編碼 + 'Cabin'特徵雜湊 + 邏輯斯迴歸</th>\n",
              "      <td>0.757684</td>\n",
              "      <td>0.342786</td>\n",
              "    </tr>\n",
              "  </tbody>\n",
              "</table>\n",
              "</div>"
            ],
            "text/plain": [
              "                                      score      time\n",
              "標籤編碼 + 邏輯斯迴歸                       0.778900  0.298594\n",
              "'Cabin'計數編碼 + 邏輯斯迴歸                0.762178  0.342355\n",
              "'Cabin'特徵雜湊 + 邏輯斯迴歸                0.776653  0.312938\n",
              "'Cabin'計數編碼 + 'Cabin'特徵雜湊 + 邏輯斯迴歸  0.757684  0.342786"
            ]
          },
          "metadata": {
            "tags": []
          },
          "execution_count": 7
        }
      ]
    }
  ]
}