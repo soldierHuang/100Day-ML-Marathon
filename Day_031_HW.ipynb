{
  "nbformat": 4,
  "nbformat_minor": 0,
  "metadata": {
    "kernelspec": {
      "display_name": "Python 3",
      "language": "python",
      "name": "python3"
    },
    "language_info": {
      "codemirror_mode": {
        "name": "ipython",
        "version": 3
      },
      "file_extension": ".py",
      "mimetype": "text/x-python",
      "name": "python",
      "nbconvert_exporter": "python",
      "pygments_lexer": "ipython3",
      "version": "3.6.2"
    },
    "colab": {
      "name": "Day_031_HW.ipynb",
      "provenance": []
    }
  },
  "cells": [
    {
      "cell_type": "markdown",
      "metadata": {
        "id": "yf_87HH1EKf9",
        "colab_type": "text"
      },
      "source": [
        "## 練習時間"
      ]
    },
    {
      "cell_type": "markdown",
      "metadata": {
        "id": "42qmxg35EKgB",
        "colab_type": "text"
      },
      "source": [
        "請觀看台大電機李宏毅教授的影片。李教授會用非常淺顯易懂的方式介紹甚麼是機器學習。\n"
      ]
    },
    {
      "cell_type": "markdown",
      "metadata": {
        "id": "uRVch-oUEKgE",
        "colab_type": "text"
      },
      "source": [
        "[youtube](https://www.youtube.com/watch?v=CXgbekl66jc)"
      ]
    },
    {
      "cell_type": "markdown",
      "metadata": {
        "id": "hoWHdeLnEKgF",
        "colab_type": "text"
      },
      "source": [
        "## 請找出一個你認為機器學習可以發光發熱的領域並闡述原因? "
      ]
    },
    {
      "cell_type": "markdown",
      "metadata": {
        "id": "puOUArpUf5RT",
        "colab_type": "text"
      },
      "source": [
        "![alt text](https://ai4quant.com/static/Machine_Learning_Algorithms.png)\n",
        "[link text](https://ai4quant.com/static/Machine_Learning_Algorithms.png)"
      ]
    }
  ]
}