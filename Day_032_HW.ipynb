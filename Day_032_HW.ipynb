{
  "nbformat": 4,
  "nbformat_minor": 0,
  "metadata": {
    "kernelspec": {
      "display_name": "Python 3",
      "language": "python",
      "name": "python3"
    },
    "language_info": {
      "codemirror_mode": {
        "name": "ipython",
        "version": 3
      },
      "file_extension": ".py",
      "mimetype": "text/x-python",
      "name": "python",
      "nbconvert_exporter": "python",
      "pygments_lexer": "ipython3",
      "version": "3.6.3"
    },
    "colab": {
      "name": "Day_032_HW.ipynb",
      "provenance": [],
      "toc_visible": true
    }
  },
  "cells": [
    {
      "cell_type": "markdown",
      "metadata": {
        "id": "_JP21ufH5kw1",
        "colab_type": "text"
      },
      "source": [
        "## 練習時間\n",
        "相信大家目前都能夠初步了解機器學習專案的流程及步驟，今天的作業希望大家能夠看看全球機器學習巨頭們在做的機器學習專案。以 google 為例，下圖是 Google 內部專案使用機器學習的數量，隨著時間進展，現在早已超過 2000 個專案在使用 ML。"
      ]
    },
    {
      "cell_type": "markdown",
      "metadata": {
        "id": "CzN6ha7k5kw3",
        "colab_type": "text"
      },
      "source": [
        "![image](https://cdn-images-1.medium.com/max/800/1*U_L8qI8RmYS-MOBrYvXhSA.png)"
      ]
    },
    {
      "cell_type": "markdown",
      "metadata": {
        "id": "_qi8dzNv5kw4",
        "colab_type": "text"
      },
      "source": [
        "底下幫同學整理幾間知名企業的 blog 或機器學習網站 (自行搜尋也可)，請挑選一篇文章閱讀並試著回答\n",
        "1. 專案的目標？ (要解決什麼問題）\n",
        "2. 使用的技術是？ (只需知道名稱即可，例如：使用 CNN 卷積神經網路做影像分類)\n",
        "3. 資料來源？ "
      ]
    },
    {
      "cell_type": "markdown",
      "metadata": {
        "id": "v-iN8qOu7PH4",
        "colab_type": "text"
      },
      "source": [
        "\n",
        "1. Improving Out-of-Distribution Detection in Machine Learning Models\n",
        "\n",
        "2.  PixelCNN++ model trained for Fashion-MNIST\n",
        "\n",
        "3. [資料來源](https://ai.googleblog.com/2019/12/improving-out-of-distribution-detection.html)\n"
      ]
    },
    {
      "cell_type": "markdown",
      "metadata": {
        "id": "SJr1lDl35kw4",
        "colab_type": "text"
      },
      "source": [
        "- [Google AI blog](https://ai.googleblog.com/)\n",
        "- [Facebook Research blog](https://research.fb.com/blog/)\n",
        "- [Apple machine learning journal](https://machinelearning.apple.com/)\n",
        "- [機器之心](https://www.jiqizhixin.com/)\n",
        "- [雷鋒網](http://www.leiphone.com/category/ai)"
      ]
    }
  ]
}