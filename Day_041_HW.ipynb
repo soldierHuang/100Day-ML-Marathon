{
  "nbformat": 4,
  "nbformat_minor": 0,
  "metadata": {
    "kernelspec": {
      "display_name": "Python 3",
      "language": "python",
      "name": "python3"
    },
    "language_info": {
      "codemirror_mode": {
        "name": "ipython",
        "version": 3
      },
      "file_extension": ".py",
      "mimetype": "text/x-python",
      "name": "python",
      "nbconvert_exporter": "python",
      "pygments_lexer": "ipython3",
      "version": "3.6.3"
    },
    "colab": {
      "name": "Day_041_HW.ipynb",
      "provenance": []
    }
  },
  "cells": [
    {
      "cell_type": "markdown",
      "metadata": {
        "id": "rcBCKg4MwF8w",
        "colab_type": "text"
      },
      "source": [
        "\n",
        "閱讀以下兩篇文獻，了解決策樹原理，並試著回答後續的問題\n",
        "- [決策樹 (Decision Tree) - 中文](https://medium.com/@yehjames/%E8%B3%87%E6%96%99%E5%88%86%E6%9E%90-%E6%A9%9F%E5%99%A8%E5%AD%B8%E7%BF%92-%E7%AC%AC3-5%E8%AC%9B-%E6%B1%BA%E7%AD%96%E6%A8%B9-decision-tree-%E4%BB%A5%E5%8F%8A%E9%9A%A8%E6%A9%9F%E6%A3%AE%E6%9E%97-random-forest-%E4%BB%8B%E7%B4%B9-7079b0ddfbda)\n",
        "- [how decision tree works - 英文](http://dataaspirant.com/2017/01/30/how-decision-tree-algorithm-works/)\n"
      ]
    },
    {
      "cell_type": "markdown",
      "metadata": {
        "id": "t9DB9N65ssdi",
        "colab_type": "text"
      },
      "source": [
        "![alt text](https://res.cloudinary.com/practicaldev/image/fetch/s--NFD01EmD--/c_limit%2Cf_auto%2Cfl_progressive%2Cq_auto%2Cw_880/https://cdn-images-1.medium.com/max/720/1%2AWerHJ14JQAd3j8ASaVjAhw.jpeg)\n",
        "\n",
        "![alt text](https://miro.medium.com/max/722/1*FjGUfcYt_Vyupv1KfNm_pA.png)\n",
        "\n",
        "熵(Entropy)\n",
        "![alt text](https://miro.medium.com/max/914/1*_otZEQ9iVAJirblwdVnIIw.png)\n",
        "\n",
        "Gini不純度(Gini Impurity)\n",
        "![alt text](https://miro.medium.com/max/1234/1*WXHY6siVegJRKcFqxCRSYQ.png)\n",
        "\n",
        "\n",
        "\n",
        "![alt text](https://github.com/KARL13YAN/learning/raw/master/pic/1%20dt%20type.png)"
      ]
    },
    {
      "cell_type": "markdown",
      "metadata": {
        "id": "k1XypA3Sp0kx",
        "colab_type": "text"
      },
      "source": [
        "## 作業\n",
        "\n",
        "1. 在分類問題中，若沒有任何限制，決策樹有辦法在訓練時將 training loss 完全降成 0 嗎？\n",
        "2. 決策樹只能用在分類問題嗎？還是可以用來解決回歸問題？\n"
      ]
    },
    {
      "cell_type": "markdown",
      "metadata": {
        "id": "j-hp1jXvs2Kv",
        "colab_type": "text"
      },
      "source": [
        "1.有辦法，樹枝細分到天荒地老\n",
        "\n",
        "2.[CART](https://codertw.com/%E7%A8%8B%E5%BC%8F%E8%AA%9E%E8%A8%80/564323/)\n",
        "\n",
        "    CART － Classification and Regression Trees\n",
        "    分類與回歸樹，是二叉樹，可以用於分類，也可以用於回歸問題，最先由 Breiman 等提出。\n",
        "\n",
        "    分類樹的輸出是樣本的類別， 回歸樹的輸出是一個實數。\n",
        "\n",
        "\n"
      ]
    }
  ]
}